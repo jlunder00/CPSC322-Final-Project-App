{
 "cells": [
  {
   "cell_type": "markdown",
   "metadata": {},
   "source": [
    "# [CPSC 322](https://github.com/KingCassell/CPSC322-Final-Project.git) Crypto Investment Proposal\n",
    "### Dustin Cassell & Jason Lunder\n",
    "\n",
    "\n"
   ]
  },
  {
   "cell_type": "markdown",
   "metadata": {},
   "source": [
    "# DATA SETS\n",
    "\n",
    "## Top 23 Crypto coins\n",
    "This data set includes the complete history of most of the popular coins and includes the majority of the price history of Bitcoin. This data can be used to track bull runs and bear markets and the histories of all time highs as they have happened for each respective coin. Each coin can be analyzed for its market corrections after these all time highs and see which have held their values stronger than others. This information can be used to create a predictive plan for investment with the highest chance of high growth.\n",
    "\n",
    "The source of this data set is [www.Kaggle.com](https://www.kaggle.com/sudalairajkumar/cryptocurrencypricehistory)"
   ]
  },
  {
   "cell_type": "markdown",
   "metadata": {},
   "source": [
    "# Implementation\n",
    "\n",
    "This data set is basically just lots of dates and values associated with those dates. keeping track of increasing values and decreasing values will give a general idea of when bull or bear markets occur, but using the daily moving average as a reference bull markets will close above this value, and bear markets below. Functions will need to be created for calculating the daily moving averages and the rate of change will need to be tracked for each bull run particularly. When bear markets occur, there will be little to no change in price for each coin and the duration of the bear market will be tracked. Comparing the length of bear vs bull is very important for understanding volatility of the market and the best points to invest for maximized gains. This comparison of length of each market will be different for each coin but it can be compared to bitcoin since the majority of the market shares are in that coin. We are sure that their will be many unseen issues to be resolved in the future, but it should be just several methods that handle trend identification."
   ]
  },
  {
   "cell_type": "markdown",
   "metadata": {},
   "source": [
    "# Potential Impact\n",
    "\n",
    "This data mining venture is to convice everyone that Crypto is the way of the future and not just some scam or gimmick like main stream media is trying to say it is. This is a legitimate form of currency that solves Inflation, Embezlement, Laundering, Counterfiting and Terrorism Funding. If the level of adoption is quantified then hopefully more investors will join in the initiative, this is of course a selfish venture in some ways because this would help our own crypto wallets grow. Anyone that chooses to invest in Cryptocurrencies will benefit and early adopters are rewarded the most!"
   ]
  }
 ],
 "metadata": {
  "kernelspec": {
   "display_name": "Python 3",
   "language": "python",
   "name": "python3"
  },
  "language_info": {
   "codemirror_mode": {
    "name": "ipython",
    "version": 3
   },
   "file_extension": ".py",
   "mimetype": "text/x-python",
   "name": "python",
   "nbconvert_exporter": "python",
   "pygments_lexer": "ipython3",
   "version": "3.8.5"
  }
 },
 "nbformat": 4,
 "nbformat_minor": 4
}
