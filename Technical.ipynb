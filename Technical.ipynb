{
 "metadata": {
  "language_info": {
   "codemirror_mode": {
    "name": "ipython",
    "version": 3
   },
   "file_extension": ".py",
   "mimetype": "text/x-python",
   "name": "python",
   "nbconvert_exporter": "python",
   "pygments_lexer": "ipython3",
   "version": "3.8.5"
  },
  "orig_nbformat": 2,
  "kernelspec": {
   "name": "python385jvsc74a57bd098b0a9b7b4eaaa670588a142fd0a9b87eaafe866f1db4228be72b4211d12040f",
   "display_name": "Python 3.8.5 64-bit ('base': conda)"
  }
 },
 "nbformat": 4,
 "nbformat_minor": 2,
 "cells": [
  {
   "source": [
    "# [CPSC 322](https://github.com/KingCassell/CPSC322-Final-Project.git) Cryptocurrencies Project\n",
    "### Dustin Cassell & Jason Lunder\n",
    "\n",
    "\n"
   ],
   "cell_type": "markdown",
   "metadata": {}
  },
  {
   "source": [
    "# Intro\n",
    "\n",
    "we used a dataset that recorded the top 23 crypto currencies and their prices across several years. prices were marked in a traditional stock exchange fashion where the beginning of the day at midnight is recorded as the opening price and the close price of each day is at 11:59:59 PM. This is not a truely effective way to record the market data of crypto because it is not traded in a physical exchange like the stock market but rather on a digital exchange that is running 24/7. Another thing to note is that each exchange can have a slightly different estimate for the current market value because their could be competing writes to the blockchain that could occur on the exact moment that an open or close occurs. This is rare and nearly imposible to identify with the dataset we have. Most of the issues we found when comparing this data against price histories on various exchanges was negligable and could be overlooked for what we wanted to examine. some exchanges had price differences of a few cents on smaller coins or even a dollar or two on big coins like ETH or BTC. Overall this data set was very accurate and we had a good amount of confidence in the accuracy.\n",
    "\n",
    "Our main goal was to create classifiers to identify the bull and bear market trends shown in the data. Firstly let me clarify what bull and bear markets are. A bull market is when the current market price closes above the Exponential moving average (EMA), and a bear market is the inverse of that where the close in below the EMA. Bull markets are periods of growth in the valuation of the coin and point towards profitable trades at high values. Bear markets are periods of either stagnation where the value remains stable, or periods of decline in valuation. We created classifiers to keep track of these trends to later predict growth or decay in the price of each coin. This tool set can be used to save your investments before large market corrections and selloffs happen at the peaks after bull markets taper off, and inversley it can tell an investor when the coin has found a more stable position and gearing for another bull run so they can invest.\n",
    "\n",
    "The source of this data set is [www.Kaggle.com](https://www.kaggle.com/sudalairajkumar/cryptocurrencypricehistory)"
   ],
   "cell_type": "markdown",
   "metadata": {}
  },
  {
   "source": [
    "# Data Analysis\n",
    "\n",
    "## TODO:\n",
    "1. attribute explanations\n",
    "2. relevent summary\n",
    "3. visualizations\n",
    "4. explanations of visualizations (paragraph forms)"
   ],
   "cell_type": "markdown",
   "metadata": {}
  },
  {
   "source": [
    "# Classification Results\n",
    "\n",
    "## TODO: \n",
    "1. Techniques used\n",
    "2. evaluation of predictive ability"
   ],
   "cell_type": "markdown",
   "metadata": {}
  },
  {
   "source": [
    "# Conclusion\n",
    "\n",
    "## TODO: \n",
    "1. explain challenges\n",
    "2. classification approach"
   ],
   "cell_type": "markdown",
   "metadata": {}
  }
 ]
}